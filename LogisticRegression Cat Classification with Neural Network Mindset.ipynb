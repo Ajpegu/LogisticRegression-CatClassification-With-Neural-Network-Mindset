{
 "cells": [
  {
   "cell_type": "markdown",
   "id": "d14c7ae1",
   "metadata": {},
   "source": [
    "# Logistic Regression with a Neural Network mindset\n",
    "\n",
    "\n",
    " \n",
    " ## Overview of the Problem set ##\n",
    "\n",
    "**Problem Statement**: We are given a dataset (\"data.h5\") containing:<br>\n",
    "     - a training set of m_train images labeled as cat (y=1) or non-cat (y=0)<br>\n",
    "     - a test set of m_test images labeled as cat or non-cat <br>\n",
    "     - each image is of shape (num_px, num_px, 3) where 3 is for the 3 channels (RGB). Thus, each image is square (height = num_px) and (width = num_px).<br>\n",
    "\n",
    "We will build a simple image-recognition algorithm that can correctly classify pictures as cat or non-cat.\n",
    "\n"
   ]
  },
  {
   "cell_type": "markdown",
   "id": "2dc1734e",
   "metadata": {},
   "source": [
    "**Key steps**:\n",
    "In this exercise, We will carry out the following steps: <br>\n",
    "    - Initialize the parameters of the model<br>\n",
    "    - Learn the parameters for the model by minimizing the cost  <br>\n",
    "    - Use the learned parameters to make predictions (on the test set)<br>\n",
    "    - Analyse the results  <br>\n",
    "    - Conclude by predicting my own picture as cat or non cat"
   ]
  },
  {
   "cell_type": "markdown",
   "id": "2a1705b3",
   "metadata": {},
   "source": [
    "### SKILLS REQUIRED ###\n",
    " - Python\n",
    " - Numpy\n",
    " - Logistic regression"
   ]
  },
  {
   "cell_type": "markdown",
   "id": "121538fc",
   "metadata": {},
   "source": [
    "\n",
    "### Step 1 : Importing All Reqired packages"
   ]
  },
  {
   "cell_type": "code",
   "execution_count": 1,
   "id": "9464ce7f",
   "metadata": {},
   "outputs": [],
   "source": [
    "import numpy as np\n",
    "import copy\n",
    "import matplotlib.pyplot as plt\n",
    "import h5py\n",
    "import scipy\n",
    "from PIL import Image\n",
    "from scipy import ndimage\n",
    "from lr_utils import load_dataset\n",
    "from public_tests import *\n",
    "\n",
    "%matplotlib inline"
   ]
  },
  {
   "cell_type": "code",
   "execution_count": 40,
   "id": "e2c7208d",
   "metadata": {},
   "outputs": [
    {
     "name": "stdout",
     "output_type": "stream",
     "text": [
      "Number of training examples: m_train = 209\n",
      "Number of testing examples: m_test = 50\n",
      "Height/Width of each image: num_px = 64\n",
      "Cost after iteration 0: 2.869267\n",
      "Cost after iteration 100: 1.419264\n",
      "Cost after iteration 200: 1.069498\n",
      "Cost after iteration 300: 0.732774\n",
      "Cost after iteration 400: 0.620712\n",
      "Cost after iteration 500: 0.496903\n",
      "Cost after iteration 600: 0.360582\n",
      "Cost after iteration 700: 0.256544\n",
      "Cost after iteration 800: 0.184749\n",
      "Cost after iteration 900: 0.152249\n",
      "Cost after iteration 1000: 0.139484\n",
      "Cost after iteration 1100: 0.129136\n",
      "Cost after iteration 1200: 0.120296\n",
      "Cost after iteration 1300: 0.112614\n",
      "Cost after iteration 1400: 0.105863\n",
      "Cost after iteration 1500: 0.099874\n",
      "Cost after iteration 1600: 0.094521\n",
      "Cost after iteration 1700: 0.089704\n",
      "Cost after iteration 1800: 0.085346\n",
      "Cost after iteration 1900: 0.081382\n",
      "Cost after iteration 2000: 0.077760\n",
      "Cost after iteration 2100: 0.074436\n",
      "Cost after iteration 2200: 0.071376\n",
      "Cost after iteration 2300: 0.068549\n",
      "Cost after iteration 2400: 0.065928\n",
      "Cost after iteration 2500: 0.063493\n",
      "Cost after iteration 2600: 0.061224\n",
      "Cost after iteration 2700: 0.059105\n",
      "Cost after iteration 2800: 0.057121\n",
      "Cost after iteration 2900: 0.055260\n",
      "Cost after iteration 3000: 0.053512\n",
      "Cost after iteration 3100: 0.051866\n",
      "Cost after iteration 3200: 0.050314\n",
      "Cost after iteration 3300: 0.048849\n",
      "Cost after iteration 3400: 0.047462\n",
      "Cost after iteration 3500: 0.046149\n",
      "Cost after iteration 3600: 0.044904\n",
      "Cost after iteration 3700: 0.043721\n",
      "Cost after iteration 3800: 0.042596\n",
      "Cost after iteration 3900: 0.041526\n",
      "Cost after iteration 4000: 0.040506\n",
      "Cost after iteration 4100: 0.039533\n",
      "Cost after iteration 4200: 0.038604\n",
      "Cost after iteration 4300: 0.037716\n",
      "Cost after iteration 4400: 0.036867\n",
      "Cost after iteration 4500: 0.036053\n",
      "Cost after iteration 4600: 0.035274\n",
      "Cost after iteration 4700: 0.034526\n",
      "Cost after iteration 4800: 0.033808\n",
      "Cost after iteration 4900: 0.033119\n",
      "train accuracy: 100.0 %\n",
      "test accuracy: 70.0 %\n"
     ]
    },
    {
     "data": {
      "image/png": "[encoded data removed]",
      "text/plain": [
       "<Figure size 432x288 with 1 Axes>"
      ]
     },
     "metadata": {
      "needs_background": "light"
     },
     "output_type": "display_data"
    }
   ],
   "source": [
    "#Loading the datasets\n",
    "train_set_x_orig, train_set_y, test_set_x_orig, test_set_y, classes = load_dataset()\n",
    "\n",
    "# Example of a picture\n",
    "index = 2   # 2nd image or 2nd training pattern\n",
    "plt.imshow(train_set_x_orig[index])\n",
    "\n",
    "m_train = train_set_x_orig.shape[0]\n",
    "m_test =  test_set_x_orig.shape[0]\n",
    "num_px = train_set_x_orig.shape[1]\n",
    "\n",
    "print (\"Number of training examples: m_train = \" + str(m_train))\n",
    "print (\"Number of testing examples: m_test = \" + str(m_test))\n",
    "print (\"Height/Width of each image: num_px = \" + str(num_px))\n",
    "\n",
    "#Reshape the training and test data sets so that images of size (num_px, num_px, 3) are flattened into single vectors of shape\n",
    "train_set_x_flatten = train_set_x_orig.reshape(train_set_x_orig.shape[0],-1).T\n",
    "test_set_x_flatten = test_set_x_orig.reshape(test_set_x_orig.shape[0],-1).T\n",
    "\n",
    "# Normalizing the data matrices\n",
    "train_set_x = train_set_x_flatten / 255.\n",
    "test_set_x = test_set_x_flatten / 255.\n",
    "\n",
    "# Defining sigmoid function\n",
    "def sigmoid(z):   \n",
    "    s = 1/(1+np.exp(-z))    \n",
    "    return s\n",
    "\n",
    "# Initializing weighted and Bias parameters\n",
    "def initialize_with_zeros(dim):\n",
    "    w = w = np.random.randn(dim,1)*np.sqrt(1/train_set_x_orig.shape[1]) # He initialization technique\n",
    "    b = 0.1\n",
    "    return w, b\n",
    "\n",
    "# Defining Forward and Backward propagation function\n",
    "def propagate(w,b,X,Y):\n",
    "    m = X.shape[1]\n",
    "    \n",
    "    # Forward\n",
    "    A = sigmoid(np.dot(w.T,X)+b)\n",
    "    cost = (-1/m)*np.sum(Y*np.log(A) + (1-Y)*np.log(1-A))\n",
    "    \n",
    "    #backward prop\n",
    "    dw = (1/m)*np.dot(X,(A-Y).T)\n",
    "    db = (1/m)*np.sum(A-Y)\n",
    "    \n",
    "    cost = np.squeeze(np.array(cost))\n",
    "\n",
    "    \n",
    "    grads = {\"dw\": dw,\n",
    "             \"db\": db}\n",
    "    \n",
    "    return grads, cost\n",
    "\n",
    "# updating the w and b parameters with forward and backward functions\n",
    "def optimize(w, b, X, Y, num_iterations=100, learning_rate=0.009, print_cost=False):\n",
    "    w = copy.deepcopy(w)\n",
    "    b = copy.deepcopy(b)\n",
    "    costs = []\n",
    "    for i in range(num_iterations):\n",
    "        grads,cost = propagate(w,b,X,Y)\n",
    "        dw = grads[\"dw\"]\n",
    "        db = grads[\"db\"]\n",
    "        \n",
    "        w = w-(learning_rate*dw)\n",
    "        b = b-(learning_rate*db)\n",
    "        \n",
    "        # Record the costs\n",
    "        if i%100 == 0:\n",
    "            costs.append(cost)\n",
    "            # Print the cost every 100 training iterations\n",
    "            if print_cost:\n",
    "                print (\"Cost after iteration %i: %f\" %(i, cost))\n",
    "    params = {\"w\": w,\n",
    "              \"b\": b}\n",
    "    \n",
    "    grads = {\"dw\": dw,\n",
    "             \"db\": db}\n",
    "    \n",
    "    return params, grads, costs\n",
    "\n",
    "# predicting the model\n",
    "def predict(w,b,X):\n",
    "    m = X.shape[1]\n",
    "    Y_prediction = np.zeros((1, m))\n",
    "    w = w.reshape(X.shape[0], 1)\n",
    "    \n",
    "    A = sigmoid(np.dot(w.T,X)+b)\n",
    "    \n",
    "    for i in range(A.shape[1]):\n",
    "        if A[0,i]>0.5:\n",
    "            Y_prediction[0,i]=1\n",
    "        else:\n",
    "            Y_prediction[0,i]=0\n",
    "    return Y_prediction\n",
    "\n",
    "#Merging All Functions into a model\n",
    "\n",
    "def model(X_train, Y_train, X_test, Y_test, num_iterations=10000, learning_rate=0.01, print_cost=False):\n",
    "    w,b = initialize_with_zeros(X_train.shape[0])\n",
    "    params, grads, costs = optimize(w, b, X_train, Y_train, num_iterations, learning_rate, print_cost)\n",
    "    w = params[\"w\"]\n",
    "    b = params[\"b\"]\n",
    "    Y_prediction_test = predict(w, b, X_test)\n",
    "    Y_prediction_train = predict(w, b, X_train)\n",
    "    if print_cost:\n",
    "        print(\"train accuracy: {} %\".format(100 - np.mean(np.abs(Y_prediction_train - Y_train)) * 100))\n",
    "        print(\"test accuracy: {} %\".format(100 - np.mean(np.abs(Y_prediction_test - Y_test)) * 100))\n",
    "    \n",
    "    d = {\"costs\": costs,\n",
    "         \"Y_prediction_test\": Y_prediction_test, \n",
    "         \"Y_prediction_train\" : Y_prediction_train, \n",
    "         \"w\" : w, \n",
    "         \"b\" : b,\n",
    "         \"learning_rate\" : learning_rate,\n",
    "         \"num_iterations\": num_iterations}\n",
    "    \n",
    "    return d\n",
    "\n",
    "logistic_regression_model = model(train_set_x, train_set_y, test_set_x, test_set_y, num_iterations=5000, learning_rate=0.01, print_cost=True)\n",
    "\n"
   ]
  },
  {
   "cell_type": "markdown",
   "id": "7bb9bcd4",
   "metadata": {},
   "source": [
    "## Graph to show cost function decreasing with each iterations"
   ]
  },
  {
   "cell_type": "code",
   "execution_count": 41,
   "id": "a6f9147a",
   "metadata": {},
   "outputs": [
    {
     "data": {
      "image/png": "[encoded data removed]",
      "text/plain": [
       "<Figure size 432x288 with 1 Axes>"
      ]
     },
     "metadata": {
      "needs_background": "light"
     },
     "output_type": "display_data"
    }
   ],
   "source": [
    "costs = np.squeeze(logistic_regression_model['costs'])\n",
    "plt.plot(costs)\n",
    "plt.ylabel('cost')\n",
    "plt.xlabel('iterations (per hundreds)')\n",
    "plt.title(\"Learning rate =\" + str(logistic_regression_model[\"learning_rate\"]))\n",
    "plt.show()"
   ]
  },
  {
   "cell_type": "markdown",
   "id": "3a4e8040",
   "metadata": {},
   "source": [
    "## Predicting my own picture as cat or non cat"
   ]
  },
  {
   "cell_type": "code",
   "execution_count": 22,
   "id": "2229afa1",
   "metadata": {},
   "outputs": [
    {
     "name": "stdout",
     "output_type": "stream",
     "text": [
      "y = 0.0, your algorithm predicts a \"non-cat\" picture.\n"
     ]
    },
    {
     "data": {
      "image/png": "[encoded data removed]",
      "text/plain": [
       "<Figure size 432x288 with 1 Axes>"
      ]
     },
     "metadata": {
      "needs_background": "light"
     },
     "output_type": "display_data"
    }
   ],
   "source": [
    "my_image = \"my_photo.jpg\" \n",
    "# We preprocess the image to fit your algorithm.\n",
    "fname = \"images/\" + my_image\n",
    "image = np.array(Image.open(fname).resize((num_px, num_px)))\n",
    "plt.imshow(image)\n",
    "\n",
    "image = image / 255.\n",
    "image = image.reshape((1, num_px * num_px * 3)).T\n",
    "my_predicted_image = predict(logistic_regression_model[\"w\"], logistic_regression_model[\"b\"], image)\n",
    "\n",
    "print(\"y = \" + str(np.squeeze(my_predicted_image)) + \", your algorithm predicts a \\\"\" + classes[int(np.squeeze(my_predicted_image)),].decode(\"utf-8\") +  \"\\\" picture.\")"
   ]
  }
 ],
 "metadata": {
  "kernelspec": {
   "display_name": "Python 3 (ipykernel)",
   "language": "python",
   "name": "python3"
  },
  "language_info": {
   "codemirror_mode": {
    "name": "ipython",
    "version": 3
   },
   "file_extension": ".py",
   "mimetype": "text/x-python",
   "name": "python",
   "nbconvert_exporter": "python",
   "pygments_lexer": "ipython3",
   "version": "3.9.12"
  }
 },
 "nbformat": 4,
 "nbformat_minor": 5
}
